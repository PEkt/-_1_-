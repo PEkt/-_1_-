{
  "nbformat": 4,
  "nbformat_minor": 0,
  "metadata": {
    "colab": {
      "provenance": []
    },
    "kernelspec": {
      "name": "python3",
      "display_name": "Python 3"
    },
    "language_info": {
      "name": "python"
    }
  },
  "cells": [
    {
      "cell_type": "markdown",
      "source": [
        "# Упражнение 3. Выполнить парсинг коллекции данных на Портале открытых данных Правительства Москвы( при отсутствии доступа к Порталу https://rosstat.gov.ru/) . Выявить показатели в наборе данных (на основании упражнения 1.1.):"
      ],
      "metadata": {
        "id": "seSyb4ZXjLi5"
      }
    },
    {
      "cell_type": "markdown",
      "source": [
        "8 вариант. Справочная информация. Так как не получилось соединиться с росстатом использовала публичное тестовое API (Joke API\n",
        "API генерирует случайные шутки.)"
      ],
      "metadata": {
        "id": "6-iooAfzjbiU"
      }
    },
    {
      "cell_type": "code",
      "source": [
        "# Импорт стандартных пакетов\n",
        "import pandas as pd\n",
        "\n",
        "# Для парсинга веб-страниц\n",
        "import requests as reqs\n",
        "import urllib.request\n",
        "from bs4 import BeautifulSoup\n",
        "import json\n",
        "import os\n",
        "import pprint\n",
        "\n",
        "# Для выполнения операций с регулярными выражениями\n",
        "import re"
      ],
      "metadata": {
        "id": "l_oW-DXhksu2"
      },
      "execution_count": 5,
      "outputs": []
    },
    {
      "cell_type": "code",
      "source": [
        "api_url='https://official-joke-api.appspot.com/random_joke'"
      ],
      "metadata": {
        "id": "HTc3lQp48pJo"
      },
      "execution_count": 18,
      "outputs": []
    },
    {
      "cell_type": "code",
      "source": [
        "resp = reqs.request(method='GET', url=api_url)\n",
        "print(resp.json())"
      ],
      "metadata": {
        "colab": {
          "base_uri": "https://localhost:8080/"
        },
        "id": "FKOMnvGCpr5L",
        "outputId": "fdc21c2a-8551-49bf-a91b-492820102536"
      },
      "execution_count": 20,
      "outputs": [
        {
          "output_type": "stream",
          "name": "stdout",
          "text": [
            "{'type': 'general', 'setup': 'Why do crabs never give to charity?', 'punchline': 'Because they’re shellfish.', 'id': 352}\n"
          ]
        }
      ]
    },
    {
      "cell_type": "code",
      "source": [
        "json_page = resp.json()\n",
        "file_name = \"joke.json\"\n",
        "with open(file_name, \"w\") as fid:\n",
        "     json.dump(json_page, fid)"
      ],
      "metadata": {
        "id": "N4rZg1zY9Cs7"
      },
      "execution_count": 21,
      "outputs": []
    },
    {
      "cell_type": "code",
      "source": [
        "!cat joke.json"
      ],
      "metadata": {
        "colab": {
          "base_uri": "https://localhost:8080/"
        },
        "id": "A4KrqY0-9Fpn",
        "outputId": "da36cf5f-20fe-4209-fd95-41cddc955be1"
      },
      "execution_count": 22,
      "outputs": [
        {
          "output_type": "stream",
          "name": "stdout",
          "text": [
            "{\"type\": \"general\", \"setup\": \"Why do crabs never give to charity?\", \"punchline\": \"Because they\\u2019re shellfish.\", \"id\": 352}"
          ]
        }
      ]
    },
    {
      "cell_type": "code",
      "source": [
        "with open(file_name, \"r\") as fid:\n",
        "     json_obj = json.load(fid)\n",
        "\n",
        "print(json_obj)"
      ],
      "metadata": {
        "colab": {
          "base_uri": "https://localhost:8080/"
        },
        "id": "8nUYH8SD9H5U",
        "outputId": "55a6ec58-63a3-4d5f-8293-efd96412a923"
      },
      "execution_count": 23,
      "outputs": [
        {
          "output_type": "stream",
          "name": "stdout",
          "text": [
            "{'type': 'general', 'setup': 'Why do crabs never give to charity?', 'punchline': 'Because they’re shellfish.', 'id': 352}\n"
          ]
        }
      ]
    },
    {
      "cell_type": "code",
      "source": [
        "for key in json_obj:\n",
        "    print(\"{:>12}: {}\".format(key, json_obj[key]))"
      ],
      "metadata": {
        "colab": {
          "base_uri": "https://localhost:8080/"
        },
        "id": "1b1Ze5P_9KBI",
        "outputId": "b2212c04-07b9-4e6d-a7b5-572e44e69f5c"
      },
      "execution_count": 24,
      "outputs": [
        {
          "output_type": "stream",
          "name": "stdout",
          "text": [
            "        type: general\n",
            "       setup: Why do crabs never give to charity?\n",
            "   punchline: Because they’re shellfish.\n",
            "          id: 352\n"
          ]
        }
      ]
    },
    {
      "cell_type": "code",
      "source": [
        "response = reqs.get(api_url)"
      ],
      "metadata": {
        "id": "8Jj1yNGP9Owg"
      },
      "execution_count": 25,
      "outputs": []
    },
    {
      "cell_type": "code",
      "source": [
        "if response.status_code == 200:\n",
        "   json_page = json.loads(response.text)"
      ],
      "metadata": {
        "id": "pcXI-Izc9RQ_"
      },
      "execution_count": 26,
      "outputs": []
    },
    {
      "cell_type": "code",
      "source": [
        "print(f\"URL: \\n\\t {response.url}\")"
      ],
      "metadata": {
        "colab": {
          "base_uri": "https://localhost:8080/"
        },
        "id": "qihCwqo-9Ttz",
        "outputId": "cfc3b0a5-9543-4c76-d2d8-bafec53bf93e"
      },
      "execution_count": 27,
      "outputs": [
        {
          "output_type": "stream",
          "name": "stdout",
          "text": [
            "URL: \n",
            "\t https://official-joke-api.appspot.com/random_joke\n"
          ]
        }
      ]
    },
    {
      "cell_type": "code",
      "source": [
        "print(f\"Content type: \\n\\t {response.headers['content-type']}\")"
      ],
      "metadata": {
        "colab": {
          "base_uri": "https://localhost:8080/"
        },
        "id": "bue_FloL9WoF",
        "outputId": "6576928c-e995-4e12-a7e6-c72e0d112224"
      },
      "execution_count": 28,
      "outputs": [
        {
          "output_type": "stream",
          "name": "stdout",
          "text": [
            "Content type: \n",
            "\t application/json; charset=utf-8\n"
          ]
        }
      ]
    },
    {
      "cell_type": "code",
      "source": [
        "if response.status_code == 200:\n",
        "   json_page = json.loads(response.text)"
      ],
      "metadata": {
        "id": "5sS_Xc7p9Y4n"
      },
      "execution_count": 29,
      "outputs": []
    },
    {
      "cell_type": "code",
      "source": [
        "for x in json_page:\n",
        "    print(x)"
      ],
      "metadata": {
        "colab": {
          "base_uri": "https://localhost:8080/"
        },
        "id": "DFdQd9KK9ZZ7",
        "outputId": "4a3927d6-7bb5-4030-a6ae-9dceb1d2f19f"
      },
      "execution_count": 30,
      "outputs": [
        {
          "output_type": "stream",
          "name": "stdout",
          "text": [
            "type\n",
            "setup\n",
            "punchline\n",
            "id\n"
          ]
        }
      ]
    },
    {
      "cell_type": "code",
      "source": [
        "for x in json_page:\n",
        "    print(f\"{x} --> {json_page[x]} \\n\")"
      ],
      "metadata": {
        "colab": {
          "base_uri": "https://localhost:8080/"
        },
        "id": "uh23L1UI9cyL",
        "outputId": "d8dd7a47-c6e9-4cf9-9698-b95bee9bb2db"
      },
      "execution_count": 31,
      "outputs": [
        {
          "output_type": "stream",
          "name": "stdout",
          "text": [
            "type --> general \n",
            "\n",
            "setup --> Why didn't the number 4 get into the nightclub? \n",
            "\n",
            "punchline --> Because he is 2 square. \n",
            "\n",
            "id --> 343 \n",
            "\n"
          ]
        }
      ]
    },
    {
      "cell_type": "code",
      "source": [
        "pprint.pprint(json_page)"
      ],
      "metadata": {
        "colab": {
          "base_uri": "https://localhost:8080/"
        },
        "id": "um0iIZKc9ekj",
        "outputId": "5c60bdb4-1a84-47b5-f922-1022bfc97298"
      },
      "execution_count": 32,
      "outputs": [
        {
          "output_type": "stream",
          "name": "stdout",
          "text": [
            "{'id': 343,\n",
            " 'punchline': 'Because he is 2 square.',\n",
            " 'setup': \"Why didn't the number 4 get into the nightclub?\",\n",
            " 'type': 'general'}\n"
          ]
        }
      ]
    }
  ]
}